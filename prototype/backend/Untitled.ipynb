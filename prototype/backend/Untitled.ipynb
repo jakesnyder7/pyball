{
 "cells": [
  {
   "cell_type": "code",
   "execution_count": 2,
   "id": "f5b3bd3e",
   "metadata": {},
   "outputs": [
    {
     "name": "stderr",
     "output_type": "stream",
     "text": [
      "R[write to console]: New names:\n",
      "* season -> season...1\n",
      "* season -> season...26\n",
      "\n"
     ]
    },
    {
     "name": "stdout",
     "output_type": "stream",
     "text": [
      "[{\"season...1\":2021,\"team\":\"KC\",\"position\":\"QB\",\"depth_chart_position\":\"QB\",\"jersey_number\":15,\"status\":\"Active\",\"full_name\":\"Patrick Mahomes\",\"first_name\":\"Patrick\",\"last_name\":\"Mahomes\",\"birth_date\":\"1995-09-17\",\"height\":\"75\",\"weight\":\"227\",\"college\":\"Texas Tech\",\"high_school\":\"Whitehouse (TX)\",\"gsis_id\":\"00-0033873\",\"espn_id\":3139477,\"sportradar_id\":\"11cad59d-90dd-449c-a839-dddaba4fe16c\",\"yahoo_id\":30123,\"rotowire_id\":11839,\"pff_id\":11765,\"pfr_id\":\"MahoPa00\",\"fantasy_data_id\":18890,\"sleeper_id\":\"4046\",\"years_exp\":5,\"headshot_url\":\"https://static.www.nfl.com/image/private/f_auto,q_auto/league/tlg2oo5yrk6mins3nxxe\",\"season...26\":2021,\"week\":10.95,\"completions\":26.25,\"attempts\":39,\"passing_yards\":294.8,\"passing_tds\":2.4,\"interceptions\":0.8,\"sacks\":1.85,\"sack_yards\":11.35,\"sack_fumbles\":0.35,\"sack_fumbles_lost\":0.1,\"passing_air_yards\":275.95,\"passing_yards_after_catch\":166.2,\"passing_first_downs\":15.8,\"passing_epa\":7.4932,\"passing_2pt_conversions\":0.05,\"dakota\":0.155,\"carries\":3.95,\"rushing_yards\":24.9,\"rushing_tds\":0.15,\"rushing_fumbles\":0.15,\"rushing_fumbles_lost\":0.1,\"rushing_first_downs\":1.5,\"rushing_2pt_conversions\":0.05,\"receptions\":0,\"targets\":0,\"receiving_yards\":0,\"receiving_tds\":0,\"receiving_fumbles\":0,\"receiving_fumbles_lost\":0,\"receiving_air_yards\":0,\"receiving_yards_after_catch\":0,\"receiving_first_downs\":0,\"receiving_2pt_conversions\":0,\"special_teams_tds\":0,\"fantasy_points\":22.982,\"fantasy_points_ppr\":22.982,\"pacr\":1.1375,\"player_id\":\"00-0033873\",\"player_name\":\"P.Mahomes\",\"recent_team\":\"KC\"}] \n",
      "\n"
     ]
    }
   ],
   "source": [
    "import rpy2.robjects as ro\n",
    "import pandas as pd\n",
    "import json\n",
    "\n",
    "r = ro.r\n",
    "r['source']('ParseNFLPlayers.R')\n",
    "\n",
    "parse_nfl_player_r = ro.globalenv['get_player_data']\n",
    "\n",
    "fake_json = parse_nfl_player_r(\"Patrick Mahomes\")\n",
    "\n",
    "print(fake_json)\n",
    "\n",
    "## let's do some work to just parse the fake json. Pandas is being the worst"
   ]
  },
  {
   "cell_type": "code",
   "execution_count": 9,
   "id": "7dce076e",
   "metadata": {},
   "outputs": [
    {
     "name": "stdout",
     "output_type": "stream",
     "text": [
      "[{\"season...1\":2021,\"team\":\"KC\",\"position\":\"QB\",\"depth_chart_position\":\"QB\",\"jersey_number\":15,\"status\":\"Active\",\"full_name\":\"Patrick Mahomes\",\"first_name\":\"Patrick\",\"last_name\":\"Mahomes\",\"birth_date\":\"1995-09-17\",\"height\":\"75\",\"weight\":\"227\",\"college\":\"Texas Tech\",\"high_school\":\"Whitehouse (TX)\",\"gsis_id\":\"00-0033873\",\"espn_id\":3139477,\"sportradar_id\":\"11cad59d-90dd-449c-a839-dddaba4fe16c\",\"yahoo_id\":30123,\"rotowire_id\":11839,\"pff_id\":11765,\"pfr_id\":\"MahoPa00\",\"fantasy_data_id\":18890,\"sleeper_id\":\"4046\",\"years_exp\":5,\"headshot_url\":\"https://static.www.nfl.com/image/private/f_auto,q_auto/league/tlg2oo5yrk6mins3nxxe\",\"season...26\":2021,\"week\":10.95,\"completions\":26.25,\"attempts\":39,\"passing_yards\":294.8,\"passing_tds\":2.4,\"interceptions\":0.8,\"sacks\":1.85,\"sack_yards\":11.35,\"sack_fumbles\":0.35,\"sack_fumbles_lost\":0.1,\"passing_air_yards\":275.95,\"passing_yards_after_catch\":166.2,\"passing_first_downs\":15.8,\"passing_epa\":7.4932,\"passing_2pt_conversions\":0.05,\"dakota\":0.155,\"carries\":3.95,\"rushing_yards\":24.9,\"rushing_tds\":0.15,\"rushing_fumbles\":0.15,\"rushing_fumbles_lost\":0.1,\"rushing_first_downs\":1.5,\"rushing_2pt_conversions\":0.05,\"receptions\":0,\"targets\":0,\"receiving_yards\":0,\"receiving_tds\":0,\"receiving_fumbles\":0,\"receiving_fumbles_lost\":0,\"receiving_air_yards\":0,\"receiving_yards_after_catch\":0,\"receiving_first_downs\":0,\"receiving_2pt_conversions\":0,\"special_teams_tds\":0,\"fantasy_points\":22.982,\"fantasy_points_ppr\":22.982,\"pacr\":1.1375,\"player_id\":\"00-0033873\",\"player_name\":\"P.Mahomes\",\"recent_team\":\"KC\"}]\n"
     ]
    },
    {
     "data": {
      "text/plain": [
       "str"
      ]
     },
     "execution_count": 9,
     "metadata": {},
     "output_type": "execute_result"
    }
   ],
   "source": [
    "json = fake_json[0]\n",
    "print(json)\n",
    "type(fake_)\n",
    "type(json)"
   ]
  },
  {
   "cell_type": "code",
   "execution_count": null,
   "id": "3eca0641",
   "metadata": {},
   "outputs": [],
   "source": [
    "df1 = pd.DataFrame()\n",
    "print(df1.to_json())\n",
    "df = ro.conversion.rpy2py(rdf)\n",
    "\n",
    "print(df)\n",
    "print(rdf)\n",
    "\n",
    "print(df.to_json())\n",
    "json_df = df.to_json()\n",
    "\n",
    "parsed = json.loads(json_df)\n",
    "json.dumps(parsed, indent=4)"
   ]
  }
 ],
 "metadata": {
  "kernelspec": {
   "display_name": "Python 3",
   "language": "python",
   "name": "python3"
  },
  "language_info": {
   "codemirror_mode": {
    "name": "ipython",
    "version": 3
   },
   "file_extension": ".py",
   "mimetype": "text/x-python",
   "name": "python",
   "nbconvert_exporter": "python",
   "pygments_lexer": "ipython3",
   "version": "3.8.8"
  }
 },
 "nbformat": 4,
 "nbformat_minor": 5
}
