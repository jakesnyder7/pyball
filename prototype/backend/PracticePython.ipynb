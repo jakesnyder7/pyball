{
 "cells": [
  {
   "cell_type": "markdown",
   "id": "402bb9ba",
   "metadata": {},
   "source": [
    "# Practice Python JNB\n",
    "\n",
    "Let's start by importing in the `R` function. We use `rpy2` to import the function and use it in `Python`."
   ]
  },
  {
   "cell_type": "code",
   "execution_count": 1,
   "id": "f5b3bd3e",
   "metadata": {
    "scrolled": false
   },
   "outputs": [
    {
     "name": "stdout",
     "output_type": "stream",
     "text": [
      "Note: nflreadr caches (i.e., stores a saved version) data by default.\n",
      "If you expect different output try one of the following:\n",
      "\u001b[34mℹ\u001b[39m Restart your R Session or\n",
      "\u001b[34mℹ\u001b[39m Run `nflreadr::.clear_cache()`.\n",
      "To disable this warning, run `options(nflreadr.verbose = FALSE)` or add it to your .Rprofile\n",
      "\u001b[90mThis message is displayed once every 8 hours.\u001b[39m\n"
     ]
    },
    {
     "name": "stderr",
     "output_type": "stream",
     "text": [
      "R[write to console]: ── \u001b[1mAttaching packages\u001b[22m ──────────────────────────────────────── \u001b[1m\u001b[36mnflverse 1.0.1\u001b[39m\u001b[22m ──\n",
      "\n",
      "R[write to console]: \u001b[32m✔\u001b[39m \u001b[36mnflfastR\u001b[39m 4.3.0     \u001b[32m✔\u001b[39m \u001b[36mnflreadr\u001b[39m 1.1.3\n",
      "\u001b[32m✔\u001b[39m \u001b[36mnflseedR\u001b[39m 1.0.2     \u001b[32m✔\u001b[39m \u001b[36mnflplotR\u001b[39m 1.0.0\n",
      "\u001b[32m✔\u001b[39m \u001b[36mnfl4th  \u001b[39m 1.0.1     \n",
      "\n",
      "R[write to console]: ──────────────────────────────────────────────────────────────── \u001b[1mReady to go!\u001b[22m ──\n",
      "\n",
      "R[write to console]: Registered S3 method overwritten by 'tune':\n",
      "  method                   from   \n",
      "  required_pkgs.model_spec parsnip\n",
      "\n",
      "R[write to console]: ── \u001b[1mAttaching packages\u001b[22m ────────────────────────────────────── tidymodels 0.1.4 ──\n",
      "\n",
      "R[write to console]: \u001b[32m✔\u001b[39m \u001b[34mbroom       \u001b[39m 0.7.12     \u001b[32m✔\u001b[39m \u001b[34mrecipes     \u001b[39m 0.1.17\n",
      "\u001b[32m✔\u001b[39m \u001b[34mdials       \u001b[39m 0.0.10     \u001b[32m✔\u001b[39m \u001b[34mrsample     \u001b[39m 0.1.1 \n",
      "\u001b[32m✔\u001b[39m \u001b[34mdplyr       \u001b[39m 1.0.7      \u001b[32m✔\u001b[39m \u001b[34mtibble      \u001b[39m 3.1.6 \n",
      "\u001b[32m✔\u001b[39m \u001b[34mggplot2     \u001b[39m 3.3.5      \u001b[32m✔\u001b[39m \u001b[34mtidyr       \u001b[39m 1.1.4 \n",
      "\u001b[32m✔\u001b[39m \u001b[34minfer       \u001b[39m 1.0.0      \u001b[32m✔\u001b[39m \u001b[34mtune        \u001b[39m 0.1.6 \n",
      "\u001b[32m✔\u001b[39m \u001b[34mmodeldata   \u001b[39m 0.1.1      \u001b[32m✔\u001b[39m \u001b[34mworkflows   \u001b[39m 0.2.4 \n",
      "\u001b[32m✔\u001b[39m \u001b[34mparsnip     \u001b[39m 0.1.7      \u001b[32m✔\u001b[39m \u001b[34mworkflowsets\u001b[39m 0.1.0 \n",
      "\u001b[32m✔\u001b[39m \u001b[34mpurrr       \u001b[39m 0.3.4      \u001b[32m✔\u001b[39m \u001b[34myardstick   \u001b[39m 0.0.9 \n",
      "\n",
      "R[write to console]: ── \u001b[1mConflicts\u001b[22m ───────────────────────────────────────── tidymodels_conflicts() ──\n",
      "\u001b[31m✖\u001b[39m \u001b[34mpurrr\u001b[39m::\u001b[32mdiscard()\u001b[39m masks \u001b[34mscales\u001b[39m::discard()\n",
      "\u001b[31m✖\u001b[39m \u001b[34mdplyr\u001b[39m::\u001b[32mfilter()\u001b[39m  masks \u001b[34mstats\u001b[39m::filter()\n",
      "\u001b[31m✖\u001b[39m \u001b[34mdplyr\u001b[39m::\u001b[32mlag()\u001b[39m     masks \u001b[34mstats\u001b[39m::lag()\n",
      "\u001b[31m✖\u001b[39m \u001b[34mrecipes\u001b[39m::\u001b[32mstep()\u001b[39m  masks \u001b[34mstats\u001b[39m::step()\n",
      "\u001b[34m•\u001b[39m Search for functions across packages at \u001b[32mhttps://www.tidymodels.org/find/\u001b[39m\n",
      "\n",
      "R[write to console]: ── \u001b[1mAttaching packages\u001b[22m ─────────────────────────────────────── tidyverse 1.3.1 ──\n",
      "\n",
      "R[write to console]: \u001b[32m✔\u001b[39m \u001b[34mreadr  \u001b[39m 2.1.1     \u001b[32m✔\u001b[39m \u001b[34mforcats\u001b[39m 0.5.1\n",
      "\u001b[32m✔\u001b[39m \u001b[34mstringr\u001b[39m 1.4.0     \n",
      "\n",
      "R[write to console]: ── \u001b[1mConflicts\u001b[22m ────────────────────────────────────────── tidyverse_conflicts() ──\n",
      "\u001b[31m✖\u001b[39m \u001b[34mreadr\u001b[39m::\u001b[32mcol_factor()\u001b[39m masks \u001b[34mscales\u001b[39m::col_factor()\n",
      "\u001b[31m✖\u001b[39m \u001b[34mpurrr\u001b[39m::\u001b[32mdiscard()\u001b[39m    masks \u001b[34mscales\u001b[39m::discard()\n",
      "\u001b[31m✖\u001b[39m \u001b[34mdplyr\u001b[39m::\u001b[32mfilter()\u001b[39m     masks \u001b[34mstats\u001b[39m::filter()\n",
      "\u001b[31m✖\u001b[39m \u001b[34mstringr\u001b[39m::\u001b[32mfixed()\u001b[39m    masks \u001b[34mrecipes\u001b[39m::fixed()\n",
      "\u001b[31m✖\u001b[39m \u001b[34mdplyr\u001b[39m::\u001b[32mlag()\u001b[39m        masks \u001b[34mstats\u001b[39m::lag()\n",
      "\u001b[31m✖\u001b[39m \u001b[34mreadr\u001b[39m::\u001b[32mspec()\u001b[39m       masks \u001b[34myardstick\u001b[39m::spec()\n",
      "\n"
     ]
    }
   ],
   "source": [
    "import rpy2.robjects as ro\n",
    "import pandas as pd\n",
    "import json\n",
    "\n",
    "r = ro.r\n",
    "r['source']('ParseNFLPlayers.R')\n",
    "\n",
    "parse_nfl_player_r = ro.globalenv['get_player_data']\n",
    "parse_position_players_r = ro.globalenv['get_position_players']\n",
    "\n",
    "# now we can use the function parse_nfl_player_r() to get info on players\n",
    "# parse_nfl_player_r() returns an array of length one with the JSON data\n",
    "# use parse_nfl_player_r(\"player_name\")[0] to get a string of the JSON\n",
    "\n",
    "# parse_position_player_r() to get info on positions\n",
    "# use parse_position_players_r(\"position\")[0] to get a string of the JSON"
   ]
  },
  {
   "cell_type": "markdown",
   "id": "dadf0322",
   "metadata": {},
   "source": [
    "Here is an example of manipulating some player data with `pandas`. Let's look at the data for Patrick Mahomes."
   ]
  },
  {
   "cell_type": "code",
   "execution_count": 2,
   "id": "482810c8",
   "metadata": {},
   "outputs": [
    {
     "name": "stdout",
     "output_type": "stream",
     "text": [
      "{'team': ['KC'], 'position': ['QB'], 'depth_chart_position': ['QB'], 'jersey_number': [15], 'status': ['Active'], 'full_name': ['Patrick Mahomes'], 'first_name': ['Patrick'], 'last_name': ['Mahomes'], 'birth_date': ['1995-09-17'], 'height': ['75'], 'weight': ['227'], 'college': ['Texas Tech'], 'high_school': ['Whitehouse (TX)'], 'gsis_id': ['00-0033873'], 'espn_id': [3139477], 'sportradar_id': ['11cad59d-90dd-449c-a839-dddaba4fe16c'], 'yahoo_id': [30123], 'rotowire_id': [11839], 'pff_id': [11765], 'pfr_id': ['MahoPa00'], 'fantasy_data_id': [18890], 'sleeper_id': ['4046'], 'years_exp': [5], 'headshot_url': ['https://static.www.nfl.com/image/private/f_auto,q_auto/league/tlg2oo5yrk6mins3nxxe'], 'week': [1, 2, 3, 4, 5, 6, 7, 8, 9, 10, 11, 13, 14, 15, 16, 17, 18, 19, 20, 21], 'completions': [27, 24, 27, 24, 33, 32, 20, 29, 20, 35, 23, 15, 20, 31, 23, 26, 27, 30, 33, 26], 'attempts': [36, 31, 44, 30, 54, 47, 35, 48, 37, 50, 37, 29, 24, 47, 30, 35, 44, 39, 44, 39], 'passing_yards': [337, 343, 260, 278, 272, 397, 206, 275, 166, 406, 260, 184, 258, 410, 258, 259, 270, 404, 378, 275], 'passing_tds': [3, 3, 3, 5, 2, 2, 0, 1, 1, 5, 0, 0, 2, 3, 3, 2, 2, 5, 3, 3], 'interceptions': [0, 1, 2, 1, 2, 2, 1, 1, 0, 0, 1, 1, 0, 1, 0, 0, 0, 1, 0, 2], 'sacks': [2, 0, 2, 1, 2, 3, 4, 2, 1, 0, 3, 1, 3, 1, 2, 0, 1, 3, 2, 4], 'sack_yards': [13, 0, 9, 7, 0, 7, 31, 14, 6, 0, 16, 6, 18, 0, 4, 0, 15, 34, 8, 39], 'sack_fumbles': [0, 0, 0, 0, 0, 1, 1, 1, 0, 0, 1, 0, 0, 1, 1, 0, 0, 0, 0, 1], 'sack_fumbles_lost': [0, 0, 0, 0, 0, 0, 0, 0, 0, 0, 1, 0, 0, 1, 0, 0, 0, 0, 0, 0], 'passing_air_yards': [335, 245, 383, 219, 363, 350, 249, 332, 331, 399, 198, 151, 142, 299, 254, 297, 278, 194, 226, 274], 'passing_yards_after_catch': [136, 211, 146, 117, 138, 167, 106, 213, 103, 252, 167, 139, 143, 208, 141, 107, 205, 277, 227, 121], 'passing_first_downs': [17, 18, 17, 16, 16, 21, 10, 17, 9, 22, 12, 8, 11, 20, 16, 11, 19, 18, 21, 17], 'passing_epa': [20.3465, 17.1982, 11.102, 22.7329, -9.875, 12.3344, -6.7847, 2.6946, -8.9517, 24.8929, -7.5709, -2.5852, 15.4989, -0.5667, 15.893, 11.3428, 12.1329, 19.0255, 5.6783, -4.6742], 'passing_2pt_conversions': [0, 0, 0, 0, 0, 0, 0, 0, 0, 0, 0, 0, 0, 1, 0, 0, 0, 0, 0, 0], 'dakota': [0.3162, 0.2833, 0.1434, 0.3516, 0.0423, 0.1818, -0.0047, 0.0606, -0.0382, 0.2438, 0.0149, -0.0694, 0.3358, 0.068, 0.2989, 0.2384, 0.1414, 0.27, 0.1713, 0.0499], 'carries': [5, 1, 4, 5, 8, 3, 6, 3, 2, 0, 7, 4, 4, 3, 0, 2, 9, 3, 7, 3], 'rushing_yards': [18, 3, 45, 26, 61, 31, 35, 10, -2, 0, 11, 12, 20, 32, 0, 25, 54, 29, 69, 19], 'rushing_tds': [1, 0, 0, 0, 0, 0, 0, 0, 0, 0, 0, 1, 0, 0, 0, 0, 0, 0, 1, 0], 'rushing_fumbles': [0, 0, 0, 0, 1, 0, 1, 0, 0, 0, 0, 0, 1, 0, 0, 0, 0, 0, 0, 0], 'rushing_fumbles_lost': [0, 0, 0, 0, 1, 0, 1, 0, 0, 0, 0, 0, 0, 0, 0, 0, 0, 0, 0, 0], 'rushing_first_downs': [2, 0, 3, 2, 5, 2, 1, 1, 0, 0, 2, 1, 1, 1, 0, 1, 3, 1, 3, 1], 'rushing_epa': [3.8393, 1.5073, 2.5042, 2.6505, -0.8279, 3.5095, -0.5262, -2.485, -1.7224, 'NA', -0.7464, 0.6408, 1.6156, 2.266, 'NA', 2.9976, -1.9473, 1.3884, 6.2901, 0.9111], 'rushing_2pt_conversions': [0, 0, 0, 0, 0, 0, 0, 0, 0, 0, 0, 0, 0, 0, 0, 0, 1, 0, 0, 0], 'receptions': [0, 0, 0, 0, 0, 0, 0, 0, 0, 0, 0, 0, 0, 0, 0, 0, 0, 0, 0, 0], 'targets': [0, 0, 0, 0, 0, 0, 0, 0, 0, 0, 0, 0, 0, 0, 0, 0, 0, 0, 0, 0], 'receiving_yards': [0, 0, 0, 0, 0, 0, 0, 0, 0, 0, 0, 0, 0, 0, 0, 0, 0, 0, 0, 0], 'receiving_tds': [0, 0, 0, 0, 0, 0, 0, 0, 0, 0, 0, 0, 0, 0, 0, 0, 0, 0, 0, 0], 'receiving_fumbles': [0, 0, 0, 0, 0, 0, 0, 0, 0, 0, 0, 0, 0, 0, 0, 0, 0, 0, 0, 0], 'receiving_fumbles_lost': [0, 0, 0, 0, 0, 0, 0, 0, 0, 0, 0, 0, 0, 0, 0, 0, 0, 0, 0, 0], 'receiving_air_yards': [0, 0, 0, 0, 0, 0, 0, 0, 0, 0, 0, 0, 0, 0, 0, 0, 0, 0, 0, 0], 'receiving_yards_after_catch': [0, 0, 0, 0, 0, 0, 0, 0, 0, 0, 0, 0, 0, 0, 0, 0, 0, 0, 0, 0], 'receiving_first_downs': [0, 0, 0, 0, 0, 0, 0, 0, 0, 0, 0, 0, 0, 0, 0, 0, 0, 0, 0, 0], 'receiving_epa': ['NA', 'NA', 'NA', 'NA', 'NA', 'NA', 'NA', 'NA', 'NA', 'NA', 'NA', 'NA', 'NA', 'NA', 'NA', 'NA', 'NA', 'NA', 'NA', 'NA'], 'receiving_2pt_conversions': [0, 0, 0, 0, 0, 0, 0, 0, 0, 0, 0, 0, 0, 0, 0, 0, 0, 0, 0, 0], 'special_teams_tds': [0, 0, 0, 0, 0, 0, 0, 0, 0, 0, 0, 0, 0, 0, 0, 0, 0, 0, 0, 0], 'fantasy_points': [33.28, 24.02, 22.9, 31.72, 18.98, 22.98, 7.74, 14, 10.44, 36.24, 7.5, 12.56, 20.32, 29.6, 22.32, 20.86, 26.2, 37.06, 40.02, 20.9], 'fantasy_points_ppr': [33.28, 24.02, 22.9, 31.72, 18.98, 22.98, 7.74, 14, 10.44, 36.24, 7.5, 12.56, 20.32, 29.6, 22.32, 20.86, 26.2, 37.06, 40.02, 20.9], 'pacr': [1.006, 1.4, 0.6789, 1.2694, 0.7493, 1.1343, 0.8273, 0.8283, 0.5015, 1.0175, 1.3131, 1.2185, 1.8169, 1.3712, 1.0157, 0.8721, 0.9712, 2.0825, 1.6726, 1.0036], 'racr': ['NA', 'NA', 'NA', 'NA', 'NA', 'NA', 'NA', 'NA', 'NA', 'NA', 'NA', 'NA', 'NA', 'NA', 'NA', 'NA', 'NA', 'NA', 'NA', 'NA'], 'target_share': ['NA', 'NA', 'NA', 'NA', 'NA', 'NA', 'NA', 'NA', 'NA', 'NA', 'NA', 'NA', 'NA', 'NA', 'NA', 'NA', 'NA', 'NA', 'NA', 'NA'], 'air_yards_share': ['NA', 'NA', 'NA', 'NA', 'NA', 'NA', 'NA', 'NA', 'NA', 'NA', 'NA', 'NA', 'NA', 'NA', 'NA', 'NA', 'NA', 'NA', 'NA', 'NA'], 'wopr': ['NA', 'NA', 'NA', 'NA', 'NA', 'NA', 'NA', 'NA', 'NA', 'NA', 'NA', 'NA', 'NA', 'NA', 'NA', 'NA', 'NA', 'NA', 'NA', 'NA'], 'player_id': ['00-0033873'], 'player_name': ['P.Mahomes'], 'recent_team': ['KC'], 'season': [2021], 'team_abbr': ['KC'], 'team_name': ['Kansas City Chiefs'], 'team_id': ['2310'], 'team_nick': ['Chiefs'], 'team_conf': ['AFC'], 'team_division': ['AFC West'], 'team_color': ['#E31837'], 'team_color2': ['#FFB612'], 'team_color3': ['#000000'], 'team_color4': ['#e31837'], 'team_logo_wikipedia': ['https://upload.wikimedia.org/wikipedia/en/thumb/e/e1/Kansas_City_Chiefs_logo.svg/100px-Kansas_City_Chiefs_logo.svg.png'], 'team_logo_espn': ['https://a.espncdn.com/i/teamlogos/nfl/500/kc.png'], 'team_wordmark': ['https://github.com/nflverse/nflfastR-data/raw/master/wordmarks/KC.png'], 'team_conference_logo': ['https://github.com/nflverse/nflfastR-data/raw/master/AFC.png'], 'team_league_logo': ['https://raw.githubusercontent.com/nflverse/nflfastR-data/master/NFL.png']}\n"
     ]
    }
   ],
   "source": [
    "# Get the data from the R function\n",
    "string_json_pmahomes = parse_nfl_player_r(\"Patrick Mahomes\")[0]\n",
    "# Parse the string into a JSON\n",
    "json_pmahomes = json.loads(string_json_pmahomes)\n",
    "print(json_pmahomes)"
   ]
  },
  {
   "cell_type": "code",
   "execution_count": 10,
   "id": "7dce076e",
   "metadata": {},
   "outputs": [
    {
     "data": {
      "text/html": [
       "<div>\n",
       "<style scoped>\n",
       "    .dataframe tbody tr th:only-of-type {\n",
       "        vertical-align: middle;\n",
       "    }\n",
       "\n",
       "    .dataframe tbody tr th {\n",
       "        vertical-align: top;\n",
       "    }\n",
       "\n",
       "    .dataframe thead th {\n",
       "        text-align: right;\n",
       "    }\n",
       "</style>\n",
       "<table border=\"1\" class=\"dataframe\">\n",
       "  <thead>\n",
       "    <tr style=\"text-align: right;\">\n",
       "      <th></th>\n",
       "      <th>team</th>\n",
       "      <th>position</th>\n",
       "      <th>depth_chart_position</th>\n",
       "      <th>jersey_number</th>\n",
       "      <th>status</th>\n",
       "      <th>full_name</th>\n",
       "      <th>first_name</th>\n",
       "      <th>last_name</th>\n",
       "      <th>birth_date</th>\n",
       "      <th>height</th>\n",
       "      <th>...</th>\n",
       "      <th>team_division</th>\n",
       "      <th>team_color</th>\n",
       "      <th>team_color2</th>\n",
       "      <th>team_color3</th>\n",
       "      <th>team_color4</th>\n",
       "      <th>team_logo_wikipedia</th>\n",
       "      <th>team_logo_espn</th>\n",
       "      <th>team_wordmark</th>\n",
       "      <th>team_conference_logo</th>\n",
       "      <th>team_league_logo</th>\n",
       "    </tr>\n",
       "  </thead>\n",
       "  <tbody>\n",
       "    <tr>\n",
       "      <th>0</th>\n",
       "      <td>[KC]</td>\n",
       "      <td>[QB]</td>\n",
       "      <td>[QB]</td>\n",
       "      <td>[15]</td>\n",
       "      <td>[Active]</td>\n",
       "      <td>[Patrick Mahomes]</td>\n",
       "      <td>[Patrick]</td>\n",
       "      <td>[Mahomes]</td>\n",
       "      <td>[1995-09-17]</td>\n",
       "      <td>[75]</td>\n",
       "      <td>...</td>\n",
       "      <td>[AFC West]</td>\n",
       "      <td>[#E31837]</td>\n",
       "      <td>[#FFB612]</td>\n",
       "      <td>[#000000]</td>\n",
       "      <td>[#e31837]</td>\n",
       "      <td>[https://upload.wikimedia.org/wikipedia/en/thu...</td>\n",
       "      <td>[https://a.espncdn.com/i/teamlogos/nfl/500/kc....</td>\n",
       "      <td>[https://github.com/nflverse/nflfastR-data/raw...</td>\n",
       "      <td>[https://github.com/nflverse/nflfastR-data/raw...</td>\n",
       "      <td>[https://raw.githubusercontent.com/nflverse/nf...</td>\n",
       "    </tr>\n",
       "  </tbody>\n",
       "</table>\n",
       "<p>1 rows × 86 columns</p>\n",
       "</div>"
      ],
      "text/plain": [
       "   team position depth_chart_position jersey_number    status  \\\n",
       "0  [KC]     [QB]                 [QB]          [15]  [Active]   \n",
       "\n",
       "           full_name first_name  last_name    birth_date height  ...  \\\n",
       "0  [Patrick Mahomes]  [Patrick]  [Mahomes]  [1995-09-17]   [75]  ...   \n",
       "\n",
       "  team_division team_color team_color2 team_color3 team_color4  \\\n",
       "0    [AFC West]  [#E31837]   [#FFB612]   [#000000]   [#e31837]   \n",
       "\n",
       "                                 team_logo_wikipedia  \\\n",
       "0  [https://upload.wikimedia.org/wikipedia/en/thu...   \n",
       "\n",
       "                                      team_logo_espn  \\\n",
       "0  [https://a.espncdn.com/i/teamlogos/nfl/500/kc....   \n",
       "\n",
       "                                       team_wordmark  \\\n",
       "0  [https://github.com/nflverse/nflfastR-data/raw...   \n",
       "\n",
       "                                team_conference_logo  \\\n",
       "0  [https://github.com/nflverse/nflfastR-data/raw...   \n",
       "\n",
       "                                    team_league_logo  \n",
       "0  [https://raw.githubusercontent.com/nflverse/nf...  \n",
       "\n",
       "[1 rows x 86 columns]"
      ]
     },
     "execution_count": 10,
     "metadata": {},
     "output_type": "execute_result"
    }
   ],
   "source": [
    "# Turn the JSON into a dataframe\n",
    "df = pd.json_normalize(json_pmahomes)\n",
    "# Display the dataframe\n",
    "df.head()"
   ]
  },
  {
   "cell_type": "markdown",
   "id": "92beb08f",
   "metadata": {},
   "source": [
    "(The dataframe is pretty small - I hope to change the API soon to return more data rather than just averages.)"
   ]
  },
  {
   "cell_type": "markdown",
   "id": "f2096924",
   "metadata": {},
   "source": [
    "Instead, let's look at the data directly in `Python`. We get this from the same `R` file that was imported in the first code chunk."
   ]
  },
  {
   "cell_type": "code",
   "execution_count": 19,
   "id": "6db4e9bf",
   "metadata": {
    "scrolled": true
   },
   "outputs": [
    {
     "ename": "KeyError",
     "evalue": "\"'official_player_stats' not found\"",
     "output_type": "error",
     "traceback": [
      "\u001b[0;31m---------------------------------------------------------------------------\u001b[0m",
      "\u001b[0;31mKeyError\u001b[0m                                  Traceback (most recent call last)",
      "\u001b[0;32m<ipython-input-19-79ed6cf13fa8>\u001b[0m in \u001b[0;36m<module>\u001b[0;34m\u001b[0m\n\u001b[1;32m      8\u001b[0m \u001b[0mplayer_stats_kicker_r\u001b[0m \u001b[0;34m=\u001b[0m \u001b[0mro\u001b[0m\u001b[0;34m.\u001b[0m\u001b[0mglobalenv\u001b[0m\u001b[0;34m[\u001b[0m\u001b[0;34m'player_stats_kicker'\u001b[0m\u001b[0;34m]\u001b[0m\u001b[0;34m\u001b[0m\u001b[0;34m\u001b[0m\u001b[0m\n\u001b[1;32m      9\u001b[0m \u001b[0mroster_r\u001b[0m \u001b[0;34m=\u001b[0m \u001b[0mro\u001b[0m\u001b[0;34m.\u001b[0m\u001b[0mglobalenv\u001b[0m\u001b[0;34m[\u001b[0m\u001b[0;34m'roster'\u001b[0m\u001b[0;34m]\u001b[0m\u001b[0;34m\u001b[0m\u001b[0;34m\u001b[0m\u001b[0m\n\u001b[0;32m---> 10\u001b[0;31m \u001b[0mofficial_player_stats_r\u001b[0m \u001b[0;34m=\u001b[0m \u001b[0mro\u001b[0m\u001b[0;34m.\u001b[0m\u001b[0mglobalenv\u001b[0m\u001b[0;34m[\u001b[0m\u001b[0;34m'official_player_stats'\u001b[0m\u001b[0;34m]\u001b[0m\u001b[0;34m\u001b[0m\u001b[0;34m\u001b[0m\u001b[0m\n\u001b[0m\u001b[1;32m     11\u001b[0m \u001b[0;34m\u001b[0m\u001b[0m\n\u001b[1;32m     12\u001b[0m \u001b[0;31m# Convert the tibble to a pandas data frame\u001b[0m\u001b[0;34m\u001b[0m\u001b[0;34m\u001b[0m\u001b[0;34m\u001b[0m\u001b[0m\n",
      "\u001b[0;32m~/opt/anaconda3/lib/python3.8/site-packages/rpy2/robjects/environments.py\u001b[0m in \u001b[0;36m__getitem__\u001b[0;34m(self, item)\u001b[0m\n\u001b[1;32m     18\u001b[0m \u001b[0;34m\u001b[0m\u001b[0m\n\u001b[1;32m     19\u001b[0m     \u001b[0;32mdef\u001b[0m \u001b[0m__getitem__\u001b[0m\u001b[0;34m(\u001b[0m\u001b[0mself\u001b[0m\u001b[0;34m,\u001b[0m \u001b[0mitem\u001b[0m\u001b[0;34m:\u001b[0m \u001b[0mstr\u001b[0m\u001b[0;34m)\u001b[0m\u001b[0;34m:\u001b[0m\u001b[0;34m\u001b[0m\u001b[0;34m\u001b[0m\u001b[0m\n\u001b[0;32m---> 20\u001b[0;31m         \u001b[0mres\u001b[0m \u001b[0;34m=\u001b[0m \u001b[0msuper\u001b[0m\u001b[0;34m(\u001b[0m\u001b[0mEnvironment\u001b[0m\u001b[0;34m,\u001b[0m \u001b[0mself\u001b[0m\u001b[0;34m)\u001b[0m\u001b[0;34m.\u001b[0m\u001b[0m__getitem__\u001b[0m\u001b[0;34m(\u001b[0m\u001b[0mitem\u001b[0m\u001b[0;34m)\u001b[0m\u001b[0;34m\u001b[0m\u001b[0;34m\u001b[0m\u001b[0m\n\u001b[0m\u001b[1;32m     21\u001b[0m         \u001b[0mres\u001b[0m \u001b[0;34m=\u001b[0m \u001b[0mconversion\u001b[0m\u001b[0;34m.\u001b[0m\u001b[0mconverter\u001b[0m\u001b[0;34m.\u001b[0m\u001b[0mrpy2py\u001b[0m\u001b[0;34m(\u001b[0m\u001b[0mres\u001b[0m\u001b[0;34m)\u001b[0m\u001b[0;34m\u001b[0m\u001b[0;34m\u001b[0m\u001b[0m\n\u001b[1;32m     22\u001b[0m         \u001b[0;31m# objects in a R environment have an associated name / symbol\u001b[0m\u001b[0;34m\u001b[0m\u001b[0;34m\u001b[0m\u001b[0;34m\u001b[0m\u001b[0m\n",
      "\u001b[0;32m~/opt/anaconda3/lib/python3.8/site-packages/rpy2/rinterface_lib/conversion.py\u001b[0m in \u001b[0;36m_\u001b[0;34m(*args, **kwargs)\u001b[0m\n\u001b[1;32m     43\u001b[0m \u001b[0;32mdef\u001b[0m \u001b[0m_cdata_res_to_rinterface\u001b[0m\u001b[0;34m(\u001b[0m\u001b[0mfunction\u001b[0m\u001b[0;34m)\u001b[0m\u001b[0;34m:\u001b[0m\u001b[0;34m\u001b[0m\u001b[0;34m\u001b[0m\u001b[0m\n\u001b[1;32m     44\u001b[0m     \u001b[0;32mdef\u001b[0m \u001b[0m_\u001b[0m\u001b[0;34m(\u001b[0m\u001b[0;34m*\u001b[0m\u001b[0margs\u001b[0m\u001b[0;34m,\u001b[0m \u001b[0;34m**\u001b[0m\u001b[0mkwargs\u001b[0m\u001b[0;34m)\u001b[0m\u001b[0;34m:\u001b[0m\u001b[0;34m\u001b[0m\u001b[0;34m\u001b[0m\u001b[0m\n\u001b[0;32m---> 45\u001b[0;31m         \u001b[0mcdata\u001b[0m \u001b[0;34m=\u001b[0m \u001b[0mfunction\u001b[0m\u001b[0;34m(\u001b[0m\u001b[0;34m*\u001b[0m\u001b[0margs\u001b[0m\u001b[0;34m,\u001b[0m \u001b[0;34m**\u001b[0m\u001b[0mkwargs\u001b[0m\u001b[0;34m)\u001b[0m\u001b[0;34m\u001b[0m\u001b[0;34m\u001b[0m\u001b[0m\n\u001b[0m\u001b[1;32m     46\u001b[0m         \u001b[0;31m# TODO: test cdata is of the expected CType\u001b[0m\u001b[0;34m\u001b[0m\u001b[0;34m\u001b[0m\u001b[0;34m\u001b[0m\u001b[0m\n\u001b[1;32m     47\u001b[0m         \u001b[0;32mreturn\u001b[0m \u001b[0m_cdata_to_rinterface\u001b[0m\u001b[0;34m(\u001b[0m\u001b[0mcdata\u001b[0m\u001b[0;34m)\u001b[0m\u001b[0;34m\u001b[0m\u001b[0;34m\u001b[0m\u001b[0m\n",
      "\u001b[0;32m~/opt/anaconda3/lib/python3.8/site-packages/rpy2/rinterface_lib/_rinterface_capi.py\u001b[0m in \u001b[0;36m_\u001b[0;34m(*args, **kwargs)\u001b[0m\n\u001b[1;32m    331\u001b[0m \u001b[0;32mdef\u001b[0m \u001b[0m_evaluated_promise\u001b[0m\u001b[0;34m(\u001b[0m\u001b[0mfunction\u001b[0m\u001b[0;34m)\u001b[0m\u001b[0;34m:\u001b[0m\u001b[0;34m\u001b[0m\u001b[0;34m\u001b[0m\u001b[0m\n\u001b[1;32m    332\u001b[0m     \u001b[0;32mdef\u001b[0m \u001b[0m_\u001b[0m\u001b[0;34m(\u001b[0m\u001b[0;34m*\u001b[0m\u001b[0margs\u001b[0m\u001b[0;34m,\u001b[0m \u001b[0;34m**\u001b[0m\u001b[0mkwargs\u001b[0m\u001b[0;34m)\u001b[0m\u001b[0;34m:\u001b[0m\u001b[0;34m\u001b[0m\u001b[0;34m\u001b[0m\u001b[0m\n\u001b[0;32m--> 333\u001b[0;31m         \u001b[0mrobj\u001b[0m \u001b[0;34m=\u001b[0m \u001b[0mfunction\u001b[0m\u001b[0;34m(\u001b[0m\u001b[0;34m*\u001b[0m\u001b[0margs\u001b[0m\u001b[0;34m,\u001b[0m \u001b[0;34m**\u001b[0m\u001b[0mkwargs\u001b[0m\u001b[0;34m)\u001b[0m\u001b[0;34m\u001b[0m\u001b[0;34m\u001b[0m\u001b[0m\n\u001b[0m\u001b[1;32m    334\u001b[0m         \u001b[0;32mif\u001b[0m \u001b[0m_TYPEOF\u001b[0m\u001b[0;34m(\u001b[0m\u001b[0mrobj\u001b[0m\u001b[0;34m)\u001b[0m \u001b[0;34m==\u001b[0m \u001b[0mopenrlib\u001b[0m\u001b[0;34m.\u001b[0m\u001b[0mrlib\u001b[0m\u001b[0;34m.\u001b[0m\u001b[0mPROMSXP\u001b[0m\u001b[0;34m:\u001b[0m\u001b[0;34m\u001b[0m\u001b[0;34m\u001b[0m\u001b[0m\n\u001b[1;32m    335\u001b[0m             robj = openrlib.rlib.Rf_eval(\n",
      "\u001b[0;32m~/opt/anaconda3/lib/python3.8/site-packages/rpy2/rinterface_lib/sexp.py\u001b[0m in \u001b[0;36m__getitem__\u001b[0;34m(self, key)\u001b[0m\n\u001b[1;32m    363\u001b[0m         \u001b[0;31m# TODO: move check of R_UnboundValue to _rinterface\u001b[0m\u001b[0;34m\u001b[0m\u001b[0;34m\u001b[0m\u001b[0;34m\u001b[0m\u001b[0m\n\u001b[1;32m    364\u001b[0m         \u001b[0;32mif\u001b[0m \u001b[0mres\u001b[0m \u001b[0;34m==\u001b[0m \u001b[0mopenrlib\u001b[0m\u001b[0;34m.\u001b[0m\u001b[0mrlib\u001b[0m\u001b[0;34m.\u001b[0m\u001b[0mR_UnboundValue\u001b[0m\u001b[0;34m:\u001b[0m\u001b[0;34m\u001b[0m\u001b[0;34m\u001b[0m\u001b[0m\n\u001b[0;32m--> 365\u001b[0;31m             \u001b[0;32mraise\u001b[0m \u001b[0mKeyError\u001b[0m\u001b[0;34m(\u001b[0m\u001b[0;34m\"'%s' not found\"\u001b[0m \u001b[0;34m%\u001b[0m \u001b[0mkey\u001b[0m\u001b[0;34m)\u001b[0m\u001b[0;34m\u001b[0m\u001b[0;34m\u001b[0m\u001b[0m\n\u001b[0m\u001b[1;32m    366\u001b[0m         \u001b[0;32mreturn\u001b[0m \u001b[0mres\u001b[0m\u001b[0;34m\u001b[0m\u001b[0;34m\u001b[0m\u001b[0m\n\u001b[1;32m    367\u001b[0m \u001b[0;34m\u001b[0m\u001b[0m\n",
      "\u001b[0;31mKeyError\u001b[0m: \"'official_player_stats' not found\""
     ]
    }
   ],
   "source": [
    "from rpy2.robjects import pandas2ri\n",
    "from rpy2.robjects.conversion import localconverter\n",
    "\n",
    "# This is an R \"tibble\" of the data\n",
    "# We load this object from the R script we used earlier\n",
    "player_stats_r = ro.globalenv['player_stats']\n",
    "team_data_r = ro.globalenv['team_data']\n",
    "player_stats_kicker_r = ro.globalenv['player_stats_kicker']\n",
    "roster_r = ro.globalenv['roster']\n",
    "official_player_stats_r = ro.globalenv['official_player_stats']\n",
    "\n",
    "# Convert the tibble to a pandas data frame\n",
    "with localconverter(ro.default_converter + pandas2ri.converter):\n",
    "    df_player_stats = ro.conversion.rpy2py(player_stats_r)\n",
    "    df_team_data = ro.conversion.rpy2py(player_stats_r)\n",
    "    df_player_stats_kicker = ro.conversion.rpy2py(player_stats_kicker_r)\n",
    "    df_roster = ro.conversion.rpy2py(roster_r)\n",
    "    df_official_player_stats = ro.conversion.rpy2py(official_player_stats_r)\n",
    "\n",
    "# View the first 5 rows of the data\n",
    "df_official_player_stats.head(100)"
   ]
  },
  {
   "cell_type": "markdown",
   "id": "c380422b",
   "metadata": {},
   "source": [
    "Have fun :) If you want to check out other dataframes, `player_stats_kicking`, `team_data`, and `roster` are all tibbles in the `R` script. Import them into python using the same process that we used for `player_stats`.\n",
    "\n",
    "Let me know if you want me to add some examples of how to manipulate data using Python!"
   ]
  },
  {
   "cell_type": "code",
   "execution_count": 25,
   "id": "0a212f29",
   "metadata": {},
   "outputs": [
    {
     "data": {
      "text/html": [
       "<div>\n",
       "<style scoped>\n",
       "    .dataframe tbody tr th:only-of-type {\n",
       "        vertical-align: middle;\n",
       "    }\n",
       "\n",
       "    .dataframe tbody tr th {\n",
       "        vertical-align: top;\n",
       "    }\n",
       "\n",
       "    .dataframe thead th {\n",
       "        text-align: right;\n",
       "    }\n",
       "</style>\n",
       "<table border=\"1\" class=\"dataframe\">\n",
       "  <thead>\n",
       "    <tr style=\"text-align: right;\">\n",
       "      <th></th>\n",
       "      <th>recent_team</th>\n",
       "      <th>week</th>\n",
       "    </tr>\n",
       "  </thead>\n",
       "  <tbody>\n",
       "    <tr>\n",
       "      <th>1</th>\n",
       "      <td>TB</td>\n",
       "      <td>1</td>\n",
       "    </tr>\n",
       "    <tr>\n",
       "      <th>2</th>\n",
       "      <td>TB</td>\n",
       "      <td>2</td>\n",
       "    </tr>\n",
       "    <tr>\n",
       "      <th>3</th>\n",
       "      <td>TB</td>\n",
       "      <td>3</td>\n",
       "    </tr>\n",
       "    <tr>\n",
       "      <th>4</th>\n",
       "      <td>TB</td>\n",
       "      <td>4</td>\n",
       "    </tr>\n",
       "    <tr>\n",
       "      <th>5</th>\n",
       "      <td>TB</td>\n",
       "      <td>5</td>\n",
       "    </tr>\n",
       "    <tr>\n",
       "      <th>...</th>\n",
       "      <td>...</td>\n",
       "      <td>...</td>\n",
       "    </tr>\n",
       "    <tr>\n",
       "      <th>5676</th>\n",
       "      <td>NYJ</td>\n",
       "      <td>14</td>\n",
       "    </tr>\n",
       "    <tr>\n",
       "      <th>5677</th>\n",
       "      <td>NYJ</td>\n",
       "      <td>15</td>\n",
       "    </tr>\n",
       "    <tr>\n",
       "      <th>5678</th>\n",
       "      <td>NYJ</td>\n",
       "      <td>16</td>\n",
       "    </tr>\n",
       "    <tr>\n",
       "      <th>5679</th>\n",
       "      <td>NYJ</td>\n",
       "      <td>17</td>\n",
       "    </tr>\n",
       "    <tr>\n",
       "      <th>5680</th>\n",
       "      <td>NYJ</td>\n",
       "      <td>18</td>\n",
       "    </tr>\n",
       "  </tbody>\n",
       "</table>\n",
       "<p>5680 rows × 2 columns</p>\n",
       "</div>"
      ],
      "text/plain": [
       "     recent_team  week\n",
       "1             TB     1\n",
       "2             TB     2\n",
       "3             TB     3\n",
       "4             TB     4\n",
       "5             TB     5\n",
       "...          ...   ...\n",
       "5676         NYJ    14\n",
       "5677         NYJ    15\n",
       "5678         NYJ    16\n",
       "5679         NYJ    17\n",
       "5680         NYJ    18\n",
       "\n",
       "[5680 rows x 2 columns]"
      ]
     },
     "execution_count": 25,
     "metadata": {},
     "output_type": "execute_result"
    }
   ],
   "source": [
    "df_player_stats[df_player_stats.recent_team == \"TB\"]\n",
    "df_player_stats[[\"recent_team\", \"week\"]]"
   ]
  }
 ],
 "metadata": {
  "kernelspec": {
   "display_name": "Python 3",
   "language": "python",
   "name": "python3"
  },
  "language_info": {
   "codemirror_mode": {
    "name": "ipython",
    "version": 3
   },
   "file_extension": ".py",
   "mimetype": "text/x-python",
   "name": "python",
   "nbconvert_exporter": "python",
   "pygments_lexer": "ipython3",
   "version": "3.8.8"
  }
 },
 "nbformat": 4,
 "nbformat_minor": 5
}
